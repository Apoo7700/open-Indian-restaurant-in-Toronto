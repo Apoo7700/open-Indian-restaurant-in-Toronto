{
    "cells": [
        {
            "metadata": {
                "collapsed": true
            },
            "cell_type": "markdown",
            "source": "#### Introduction/Business Problem"
        },
        {
            "metadata": {},
            "cell_type": "markdown",
            "source": "Opening a resturant can be a very profitable business but lack of demand can cause many resturants to close within the first year of opening. Success of a resturant depends on many factors, to name a few - location, competition and quality of the food.\nThis project tries to find an optimal recomendation for opening an Indian resturant in Toronto by taking all the above mentioned factors in\nconsideration.\nFoursquare API has been used to determine the optimal location to open an Indian Restaurant. For Indian Restaurant specifically, location and competition are both considered while providing a recomendation. If there are too many Indian Restaurants in the local vicinity, the profitability of the restaurant may severily decrease. Additionally, opening a restaurant in a higher income location would increase the profitability of the business compared to opening the resturant in a poor income locality."
        },
        {
            "metadata": {},
            "cell_type": "markdown",
            "source": "#### Business Problem"
        },
        {
            "metadata": {},
            "cell_type": "markdown",
            "source": "What areas are the best options for opening an Indian Restaurant in Toronto?"
        },
        {
            "metadata": {},
            "cell_type": "markdown",
            "source": "#### Data"
        },
        {
            "metadata": {},
            "cell_type": "markdown",
            "source": "Foursquare API is used to determine the average house price in different neighborhoods which helps in estimating the average income of the inhabitants. Foursquare API is also used in determing population distribution of each area, the number of Indian Restaurant in each neighborhood and the number of total restaurant in each neighborhood. The data is then used to cluster different postal codes to determine the optimal location to open the restaurant."
        },
        {
            "metadata": {},
            "cell_type": "code",
            "source": "",
            "execution_count": null,
            "outputs": []
        }
    ],
    "metadata": {
        "kernelspec": {
            "name": "python3",
            "display_name": "Python 3.6",
            "language": "python"
        },
        "language_info": {
            "name": "python",
            "version": "3.6.9",
            "mimetype": "text/x-python",
            "codemirror_mode": {
                "name": "ipython",
                "version": 3
            },
            "pygments_lexer": "ipython3",
            "nbconvert_exporter": "python",
            "file_extension": ".py"
        }
    },
    "nbformat": 4,
    "nbformat_minor": 1
}